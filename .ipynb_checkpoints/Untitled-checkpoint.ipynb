{
 "cells": [
  {
   "cell_type": "markdown",
   "id": "6e49ca1e-b22e-4fe4-bede-78b3f0a8e749",
   "metadata": {},
   "source": [
    "# Portfolio Website for Coursework 1 for the Fundamentals of Web Technology module (4BUIS011C-n)\n",
    "\n",
    "This repository was created to fulfill the requirements for the Coursework 1 of Fundamentals of Web Technology module. The repository is hosted on [this link](https://bextuychiev.github.io/00011829_4BUIS011C-n/index.html) using GitHub pages.\n",
    "\n",
    "From the list of options to submit the coursework, a portfolio website was chosen. The simple website includes 6 pages with links to an articles page (main), contact me, skills, pricing, about me and info pages. \n",
    "\n",
    "The `files` folder contains all extra files (other than code files) used in the project. The `html` folder contains all the other pages of the website excluding the main page, `index.html`. A single CSS file, `home.css` was used for all pages, which can be found inside the `styles` folder. "
   ]
  }
 ],
 "metadata": {
  "kernelspec": {
   "display_name": "medium_articles",
   "language": "python",
   "name": "medium_articles"
  },
  "language_info": {
   "codemirror_mode": {
    "name": "ipython",
    "version": 3
   },
   "file_extension": ".py",
   "mimetype": "text/x-python",
   "name": "python",
   "nbconvert_exporter": "python",
   "pygments_lexer": "ipython3",
   "version": "3.8.11"
  }
 },
 "nbformat": 4,
 "nbformat_minor": 5
}
